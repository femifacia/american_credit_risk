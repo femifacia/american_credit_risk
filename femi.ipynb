{
 "cells": [
  {
   "cell_type": "markdown",
   "metadata": {},
   "source": [
    "# Main imports"
   ]
  },
  {
   "cell_type": "code",
   "execution_count": 19,
   "metadata": {},
   "outputs": [],
   "source": [
    "import os\n",
    "import pandas as pd \n",
    "import matplotlib.pyplot as plt\n",
    "from datetime import datetime\n",
    "import numpy as np\n",
    "from tqdm import tqdm\n",
    "from collections import defaultdict\n",
    "\n",
    "\n",
    "pd.options.display.max_columns = 200\n",
    "pd.options.display.max_rows = 5000"
   ]
  },
  {
   "cell_type": "code",
   "execution_count": 20,
   "metadata": {},
   "outputs": [
    {
     "name": "stdout",
     "output_type": "stream",
     "text": [
      "Defaulting to user installation because normal site-packages is not writeable\n",
      "Requirement already satisfied: mljar-supervised in /home/femi/.local/lib/python3.12/site-packages (1.1.14)\n",
      "Requirement already satisfied: catboost>=0.24.4 in /home/femi/.local/lib/python3.12/site-packages (from mljar-supervised) (1.2.7)\n",
      "Requirement already satisfied: category-encoders>=2.2.2 in /home/femi/.local/lib/python3.12/site-packages (from mljar-supervised) (2.6.4)\n",
      "Requirement already satisfied: dtreeviz>=2.2.2 in /home/femi/.local/lib/python3.12/site-packages (from mljar-supervised) (2.2.2)\n",
      "Requirement already satisfied: ipython in /home/femi/.local/lib/python3.12/site-packages (from mljar-supervised) (8.28.0)\n",
      "Requirement already satisfied: joblib>=1.0.1 in /home/femi/.local/lib/python3.12/site-packages (from mljar-supervised) (1.4.2)\n",
      "Requirement already satisfied: lightgbm>=3.0.0 in /home/femi/.local/lib/python3.12/site-packages (from mljar-supervised) (4.5.0)\n",
      "Requirement already satisfied: markdown in /home/femi/.local/lib/python3.12/site-packages (from mljar-supervised) (3.7)\n",
      "Requirement already satisfied: matplotlib>=3.2.2 in /home/femi/.local/lib/python3.12/site-packages (from mljar-supervised) (3.9.2)\n",
      "Requirement already satisfied: mljar-scikit-plot>=0.3.11 in /home/femi/.local/lib/python3.12/site-packages (from mljar-supervised) (0.3.12)\n",
      "Requirement already satisfied: numpy<2,>=1.19.5 in /home/femi/.local/lib/python3.12/site-packages (from mljar-supervised) (1.26.4)\n",
      "Requirement already satisfied: optuna-integration>=3.6.0 in /home/femi/.local/lib/python3.12/site-packages (from mljar-supervised) (4.1.0)\n",
      "Requirement already satisfied: pandas>=2.0.0 in /home/femi/.local/lib/python3.12/site-packages (from mljar-supervised) (2.2.3)\n",
      "Requirement already satisfied: scikit-learn>=1.5.0 in /home/femi/.local/lib/python3.12/site-packages (from mljar-supervised) (1.5.2)\n",
      "Requirement already satisfied: scipy>=1.6.1 in /home/femi/.local/lib/python3.12/site-packages (from mljar-supervised) (1.14.1)\n",
      "Requirement already satisfied: seaborn>=0.11.1 in /home/femi/.local/lib/python3.12/site-packages (from mljar-supervised) (0.13.2)\n",
      "Requirement already satisfied: shap>=0.42.1 in /home/femi/.local/lib/python3.12/site-packages (from mljar-supervised) (0.46.0)\n",
      "Requirement already satisfied: tabulate>=0.8.7 in /home/femi/.local/lib/python3.12/site-packages (from mljar-supervised) (0.9.0)\n",
      "Requirement already satisfied: typing-extensions in /usr/lib/python3/dist-packages (from mljar-supervised) (4.10.0)\n",
      "Requirement already satisfied: wordcloud>=1.8.1 in /home/femi/.local/lib/python3.12/site-packages (from mljar-supervised) (1.9.4)\n",
      "Requirement already satisfied: xgboost>=2.0.0 in /home/femi/.local/lib/python3.12/site-packages (from mljar-supervised) (2.1.2)\n",
      "Requirement already satisfied: graphviz in /home/femi/.local/lib/python3.12/site-packages (from catboost>=0.24.4->mljar-supervised) (0.20.3)\n",
      "Requirement already satisfied: plotly in /home/femi/.local/lib/python3.12/site-packages (from catboost>=0.24.4->mljar-supervised) (5.24.1)\n",
      "Requirement already satisfied: six in /usr/lib/python3/dist-packages (from catboost>=0.24.4->mljar-supervised) (1.16.0)\n",
      "Requirement already satisfied: statsmodels>=0.9.0 in /home/femi/.local/lib/python3.12/site-packages (from category-encoders>=2.2.2->mljar-supervised) (0.14.4)\n",
      "Requirement already satisfied: patsy>=0.5.1 in /home/femi/.local/lib/python3.12/site-packages (from category-encoders>=2.2.2->mljar-supervised) (1.0.1)\n",
      "Requirement already satisfied: colour in /home/femi/.local/lib/python3.12/site-packages (from dtreeviz>=2.2.2->mljar-supervised) (0.1.5)\n",
      "Requirement already satisfied: pytest in /home/femi/.local/lib/python3.12/site-packages (from dtreeviz>=2.2.2->mljar-supervised) (8.3.3)\n",
      "Requirement already satisfied: contourpy>=1.0.1 in /home/femi/.local/lib/python3.12/site-packages (from matplotlib>=3.2.2->mljar-supervised) (1.3.0)\n",
      "Requirement already satisfied: cycler>=0.10 in /home/femi/.local/lib/python3.12/site-packages (from matplotlib>=3.2.2->mljar-supervised) (0.12.1)\n",
      "Requirement already satisfied: fonttools>=4.22.0 in /home/femi/.local/lib/python3.12/site-packages (from matplotlib>=3.2.2->mljar-supervised) (4.54.1)\n",
      "Requirement already satisfied: kiwisolver>=1.3.1 in /home/femi/.local/lib/python3.12/site-packages (from matplotlib>=3.2.2->mljar-supervised) (1.4.7)\n",
      "Requirement already satisfied: packaging>=20.0 in /home/femi/.local/lib/python3.12/site-packages (from matplotlib>=3.2.2->mljar-supervised) (24.1)\n",
      "Requirement already satisfied: pillow>=8 in /usr/lib/python3/dist-packages (from matplotlib>=3.2.2->mljar-supervised) (10.2.0)\n",
      "Requirement already satisfied: pyparsing>=2.3.1 in /usr/lib/python3/dist-packages (from matplotlib>=3.2.2->mljar-supervised) (3.1.1)\n",
      "Requirement already satisfied: python-dateutil>=2.7 in /usr/lib/python3/dist-packages (from matplotlib>=3.2.2->mljar-supervised) (2.8.2)\n",
      "Requirement already satisfied: optuna in /home/femi/.local/lib/python3.12/site-packages (from optuna-integration>=3.6.0->mljar-supervised) (4.1.0)\n",
      "Requirement already satisfied: pytz>=2020.1 in /usr/lib/python3/dist-packages (from pandas>=2.0.0->mljar-supervised) (2024.1)\n",
      "Requirement already satisfied: tzdata>=2022.7 in /home/femi/.local/lib/python3.12/site-packages (from pandas>=2.0.0->mljar-supervised) (2024.2)\n",
      "Requirement already satisfied: threadpoolctl>=3.1.0 in /home/femi/.local/lib/python3.12/site-packages (from scikit-learn>=1.5.0->mljar-supervised) (3.5.0)\n",
      "Requirement already satisfied: tqdm>=4.27.0 in /home/femi/.local/lib/python3.12/site-packages (from shap>=0.42.1->mljar-supervised) (4.66.5)\n",
      "Requirement already satisfied: slicer==0.0.8 in /home/femi/.local/lib/python3.12/site-packages (from shap>=0.42.1->mljar-supervised) (0.0.8)\n",
      "Requirement already satisfied: numba in /home/femi/.local/lib/python3.12/site-packages (from shap>=0.42.1->mljar-supervised) (0.60.0)\n",
      "Requirement already satisfied: cloudpickle in /home/femi/.local/lib/python3.12/site-packages (from shap>=0.42.1->mljar-supervised) (3.1.0)\n",
      "Requirement already satisfied: nvidia-nccl-cu12 in /home/femi/.local/lib/python3.12/site-packages (from xgboost>=2.0.0->mljar-supervised) (2.23.4)\n",
      "Requirement already satisfied: decorator in /home/femi/.local/lib/python3.12/site-packages (from ipython->mljar-supervised) (5.1.1)\n",
      "Requirement already satisfied: jedi>=0.16 in /home/femi/.local/lib/python3.12/site-packages (from ipython->mljar-supervised) (0.19.1)\n",
      "Requirement already satisfied: matplotlib-inline in /home/femi/.local/lib/python3.12/site-packages (from ipython->mljar-supervised) (0.1.7)\n",
      "Requirement already satisfied: prompt-toolkit<3.1.0,>=3.0.41 in /home/femi/.local/lib/python3.12/site-packages (from ipython->mljar-supervised) (3.0.48)\n",
      "Requirement already satisfied: pygments>=2.4.0 in /usr/lib/python3/dist-packages (from ipython->mljar-supervised) (2.17.2)\n",
      "Requirement already satisfied: stack-data in /home/femi/.local/lib/python3.12/site-packages (from ipython->mljar-supervised) (0.6.3)\n",
      "Requirement already satisfied: traitlets>=5.13.0 in /home/femi/.local/lib/python3.12/site-packages (from ipython->mljar-supervised) (5.14.3)\n",
      "Requirement already satisfied: pexpect>4.3 in /usr/lib/python3/dist-packages (from ipython->mljar-supervised) (4.9.0)\n",
      "Requirement already satisfied: parso<0.9.0,>=0.8.3 in /home/femi/.local/lib/python3.12/site-packages (from jedi>=0.16->ipython->mljar-supervised) (0.8.4)\n",
      "Requirement already satisfied: wcwidth in /home/femi/.local/lib/python3.12/site-packages (from prompt-toolkit<3.1.0,>=3.0.41->ipython->mljar-supervised) (0.2.13)\n",
      "Requirement already satisfied: llvmlite<0.44,>=0.43.0dev0 in /home/femi/.local/lib/python3.12/site-packages (from numba->shap>=0.42.1->mljar-supervised) (0.43.0)\n",
      "Requirement already satisfied: alembic>=1.5.0 in /home/femi/.local/lib/python3.12/site-packages (from optuna->optuna-integration>=3.6.0->mljar-supervised) (1.14.0)\n",
      "Requirement already satisfied: colorlog in /home/femi/.local/lib/python3.12/site-packages (from optuna->optuna-integration>=3.6.0->mljar-supervised) (6.9.0)\n",
      "Requirement already satisfied: sqlalchemy>=1.4.2 in /home/femi/.local/lib/python3.12/site-packages (from optuna->optuna-integration>=3.6.0->mljar-supervised) (2.0.36)\n",
      "Requirement already satisfied: PyYAML in /usr/lib/python3/dist-packages (from optuna->optuna-integration>=3.6.0->mljar-supervised) (6.0.1)\n",
      "Requirement already satisfied: tenacity>=6.2.0 in /home/femi/.local/lib/python3.12/site-packages (from plotly->catboost>=0.24.4->mljar-supervised) (9.0.0)\n",
      "Requirement already satisfied: iniconfig in /home/femi/.local/lib/python3.12/site-packages (from pytest->dtreeviz>=2.2.2->mljar-supervised) (2.0.0)\n",
      "Requirement already satisfied: pluggy<2,>=1.5 in /home/femi/.local/lib/python3.12/site-packages (from pytest->dtreeviz>=2.2.2->mljar-supervised) (1.5.0)\n",
      "Requirement already satisfied: executing>=1.2.0 in /home/femi/.local/lib/python3.12/site-packages (from stack-data->ipython->mljar-supervised) (2.1.0)\n",
      "Requirement already satisfied: asttokens>=2.1.0 in /home/femi/.local/lib/python3.12/site-packages (from stack-data->ipython->mljar-supervised) (2.4.1)\n",
      "Requirement already satisfied: pure-eval in /home/femi/.local/lib/python3.12/site-packages (from stack-data->ipython->mljar-supervised) (0.2.3)\n",
      "Requirement already satisfied: Mako in /home/femi/.local/lib/python3.12/site-packages (from alembic>=1.5.0->optuna->optuna-integration>=3.6.0->mljar-supervised) (1.3.6)\n",
      "Requirement already satisfied: greenlet!=0.4.17 in /home/femi/.local/lib/python3.12/site-packages (from sqlalchemy>=1.4.2->optuna->optuna-integration>=3.6.0->mljar-supervised) (3.1.1)\n",
      "Requirement already satisfied: MarkupSafe>=0.9.2 in /usr/lib/python3/dist-packages (from Mako->alembic>=1.5.0->optuna->optuna-integration>=3.6.0->mljar-supervised) (2.1.5)\n",
      "Note: you may need to restart the kernel to use updated packages.\n"
     ]
    }
   ],
   "source": [
    "%pip install mljar-supervised"
   ]
  },
  {
   "cell_type": "markdown",
   "metadata": {},
   "source": [
    "# Load DataFrame"
   ]
  },
  {
   "cell_type": "code",
   "execution_count": 21,
   "metadata": {},
   "outputs": [
    {
     "data": {
      "text/plain": [
       "credit_history\n",
       "good         530\n",
       "critical     293\n",
       "poor          88\n",
       "very good     49\n",
       "perfect       40\n",
       "Name: count, dtype: int64"
      ]
     },
     "execution_count": 21,
     "metadata": {},
     "output_type": "execute_result"
    }
   ],
   "source": [
    "path_to_df = \"credit.csv\"\n",
    "\n",
    "credit_df = pd.read_csv(path_to_df)\n",
    "\n",
    "credit_df['credit_history'].value_counts()"
   ]
  },
  {
   "cell_type": "markdown",
   "metadata": {},
   "source": [
    "# Preprocessing step"
   ]
  },
  {
   "cell_type": "markdown",
   "metadata": {},
   "source": [
    "## Credit History"
   ]
  },
  {
   "cell_type": "code",
   "execution_count": 22,
   "metadata": {},
   "outputs": [],
   "source": [
    "credit_dict = {'critical' : 10000,\n",
    "               'poor' : 1000,\n",
    "               'good' : 100,\n",
    "               'very good' : 10,\n",
    "               'perfect' : 1}\n",
    "\n",
    "credit_df[\"credit_history\"] = credit_df['credit_history'].apply(lambda x : credit_dict.get(x, x))"
   ]
  },
  {
   "cell_type": "code",
   "execution_count": 23,
   "metadata": {},
   "outputs": [
    {
     "data": {
      "text/plain": [
       "credit_history\n",
       "100      530\n",
       "10000    293\n",
       "1000      88\n",
       "10        49\n",
       "1         40\n",
       "Name: count, dtype: int64"
      ]
     },
     "execution_count": 23,
     "metadata": {},
     "output_type": "execute_result"
    }
   ],
   "source": [
    "credit_df['credit_history'].value_counts()\n"
   ]
  },
  {
   "cell_type": "code",
   "execution_count": 24,
   "metadata": {},
   "outputs": [
    {
     "name": "stdout",
     "output_type": "stream",
     "text": [
      "AutoML directory: AutoML_4\n",
      "The task is binary_classification with evaluation metric logloss\n",
      "AutoML will use algorithms: ['Baseline', 'Linear', 'Decision Tree', 'Random Forest', 'Xgboost', 'Neural Network']\n",
      "AutoML will ensemble available models\n"
     ]
    },
    {
     "name": "stdout",
     "output_type": "stream",
     "text": [
      "AutoML steps: ['simple_algorithms', 'default_algorithms', 'ensemble']\n",
      "* Step simple_algorithms will try to check up to 3 models\n",
      "1_Baseline logloss 0.594754 trained in 0.67 seconds\n",
      "2_DecisionTree logloss 0.751196 trained in 7.21 seconds\n",
      "3_Linear logloss 0.542454 trained in 4.65 seconds\n",
      "* Step default_algorithms will try to check up to 3 models\n",
      "4_Default_Xgboost logloss 0.518423 trained in 2.19 seconds\n",
      "5_Default_NeuralNetwork logloss 0.545083 trained in 2.24 seconds\n",
      "6_Default_RandomForest logloss 0.551099 trained in 3.01 seconds\n",
      "* Step ensemble will try to check up to 1 model\n",
      "Ensemble logloss 0.510099 trained in 2.09 seconds\n",
      "AutoML fit time: 30.86 seconds\n",
      "AutoML best model: Ensemble\n"
     ]
    }
   ],
   "source": [
    "from sklearn.model_selection import train_test_split\n",
    "from supervised.automl import AutoML\n",
    "\n",
    "\n",
    "X_train, X_test, y_train, y_test = train_test_split(\n",
    "    credit_df[credit_df.columns[:-1]], credit_df['default'], test_size=0.25\n",
    ")\n",
    "\n",
    "automl = AutoML()\n",
    "automl.fit(X_train, y_train)\n",
    "\n",
    "predictions = automl.predict(X_test)"
   ]
  },
  {
   "cell_type": "code",
   "execution_count": 25,
   "metadata": {},
   "outputs": [
    {
     "data": {
      "text/plain": [
       "default\n",
       "no     700\n",
       "yes    300\n",
       "Name: count, dtype: int64"
      ]
     },
     "execution_count": 25,
     "metadata": {},
     "output_type": "execute_result"
    }
   ],
   "source": [
    "credit_df[\"default\"].value_counts()"
   ]
  }
 ],
 "metadata": {
  "kernelspec": {
   "display_name": "Python 3",
   "language": "python",
   "name": "python3"
  },
  "language_info": {
   "codemirror_mode": {
    "name": "ipython",
    "version": 3
   },
   "file_extension": ".py",
   "mimetype": "text/x-python",
   "name": "python",
   "nbconvert_exporter": "python",
   "pygments_lexer": "ipython3",
   "version": "3.12.3"
  }
 },
 "nbformat": 4,
 "nbformat_minor": 2
}
